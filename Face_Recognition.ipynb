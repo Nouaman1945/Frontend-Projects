{
  "nbformat": 4,
  "nbformat_minor": 0,
  "metadata": {
    "colab": {
      "provenance": [],
      "gpuType": "T4",
      "authorship_tag": "ABX9TyOYdZaFOAo2Ss2Uzabfe06k"
    },
    "kernelspec": {
      "name": "python3",
      "display_name": "Python 3"
    },
    "language_info": {
      "name": "python"
    },
    "accelerator": "GPU"
  },
  "cells": [
    {
      "cell_type": "code",
      "execution_count": null,
      "metadata": {
        "colab": {
          "base_uri": "https://localhost:8080/"
        },
        "id": "vz5A5eqT8GQa",
        "outputId": "9ae03510-60f5-4dc4-c95f-45de7f5e2204"
      },
      "outputs": [
        {
          "output_type": "stream",
          "name": "stdout",
          "text": [
            "Face not recognized.\n"
          ]
        }
      ],
      "source": [
        "import face_recognition\n",
        "\n",
        "# Load images\n",
        "known_image = face_recognition.load_image_file(\"me face.jpg\")\n",
        "known_face_encodings = face_recognition.face_encodings(known_image)[0]  # Indentation fixed\n",
        "\n",
        "unknown_image = face_recognition.load_image_file(\"face1.jpg\")\n",
        "unknown_face_encodings = face_recognition.face_encodings(unknown_image)\n",
        "\n",
        "# Compare faces\n",
        "for unknown_face_encoding in unknown_face_encodings:\n",
        "    results = face_recognition.compare_faces([known_face_encodings], unknown_face_encoding)  # Plural form used\n",
        "\n",
        "    if results[0]:\n",
        "        print(\"Face recognized!\")\n",
        "    else:\n",
        "        print(\"Face not recognized.\")\n"
      ]
    },
    {
      "cell_type": "code",
      "source": [
        "!pip install face_recognition"
      ],
      "metadata": {
        "colab": {
          "base_uri": "https://localhost:8080/"
        },
        "id": "eBdg-Gu_QIZ1",
        "outputId": "d40b312b-2f6c-4167-ecfb-82f3f92e1e5d"
      },
      "execution_count": null,
      "outputs": [
        {
          "output_type": "stream",
          "name": "stdout",
          "text": [
            "Collecting face_recognition\n",
            "  Downloading face_recognition-1.3.0-py2.py3-none-any.whl (15 kB)\n",
            "Collecting face-recognition-models>=0.3.0 (from face_recognition)\n",
            "  Downloading face_recognition_models-0.3.0.tar.gz (100.1 MB)\n",
            "\u001b[2K     \u001b[90m━━━━━━━━━━━━━━━━━━━━━━━━━━━━━━━━━━━━━━━━\u001b[0m \u001b[32m100.1/100.1 MB\u001b[0m \u001b[31m9.3 MB/s\u001b[0m eta \u001b[36m0:00:00\u001b[0m\n",
            "\u001b[?25h  Preparing metadata (setup.py) ... \u001b[?25l\u001b[?25hdone\n",
            "Requirement already satisfied: Click>=6.0 in /usr/local/lib/python3.10/dist-packages (from face_recognition) (8.1.7)\n",
            "Requirement already satisfied: dlib>=19.7 in /usr/local/lib/python3.10/dist-packages (from face_recognition) (19.24.2)\n",
            "Requirement already satisfied: numpy in /usr/local/lib/python3.10/dist-packages (from face_recognition) (1.23.5)\n",
            "Requirement already satisfied: Pillow in /usr/local/lib/python3.10/dist-packages (from face_recognition) (9.4.0)\n",
            "Building wheels for collected packages: face-recognition-models\n",
            "  Building wheel for face-recognition-models (setup.py) ... \u001b[?25l\u001b[?25hdone\n",
            "  Created wheel for face-recognition-models: filename=face_recognition_models-0.3.0-py2.py3-none-any.whl size=100566170 sha256=0ba79c72ea6015ac2a5892c95caef1b1fcd7fc4a1871f0e3e79a3fa9f17bc604\n",
            "  Stored in directory: /root/.cache/pip/wheels/7a/eb/cf/e9eced74122b679557f597bb7c8e4c739cfcac526db1fd523d\n",
            "Successfully built face-recognition-models\n",
            "Installing collected packages: face-recognition-models, face_recognition\n",
            "Successfully installed face-recognition-models-0.3.0 face_recognition-1.3.0\n"
          ]
        }
      ]
    },
    {
      "cell_type": "code",
      "source": [
        "import face_recognition"
      ],
      "metadata": {
        "id": "_1XHubEtQ1kO"
      },
      "execution_count": null,
      "outputs": []
    }
  ]
}